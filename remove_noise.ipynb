{
  "nbformat": 4,
  "nbformat_minor": 0,
  "metadata": {
    "colab": {
      "name": "노이즈제거.ipynb",
      "private_outputs": true,
      "provenance": [],
      "collapsed_sections": [],
      "authorship_tag": "ABX9TyOWE7hb2BYNnIVhMn7Xa31y",
      "include_colab_link": true
    },
    "kernelspec": {
      "name": "python3",
      "display_name": "Python 3"
    }
  },
  "cells": [
    {
      "cell_type": "markdown",
      "metadata": {
        "id": "view-in-github",
        "colab_type": "text"
      },
      "source": [
        "<a href=\"https://colab.research.google.com/github/woochichi/opencv_image-preprocessing-noise/blob/main/remove_noise.ipynb\" target=\"_parent\"><img src=\"https://colab.research.google.com/assets/colab-badge.svg\" alt=\"Open In Colab\"/></a>"
      ]
    },
    {
      "cell_type": "markdown",
      "metadata": {
        "id": "Ks5EvpWbEt2N"
      },
      "source": [
        "\n",
        "\n",
        "\n",
        "Non-local means Denoising"
      ]
    },
    {
      "cell_type": "code",
      "metadata": {
        "id": "CBEFdpyTEp9w"
      },
      "source": [
        "import cv2\n",
        "import numpy as np\n",
        "import matplotlib.pyplot as plt\n",
        "plt.style.use('dark_background')"
      ],
      "execution_count": null,
      "outputs": []
    },
    {
      "cell_type": "code",
      "metadata": {
        "id": "G3pIvPI7FN-k"
      },
      "source": [
        "img_ori = cv2.imread('sample (6).jpg')\n",
        "img_copy = img_ori.copy()\n",
        "\n",
        "height, width, channel = img_ori.shape\n",
        "\n",
        "plt.figure(figsize=(12, 10))\n",
        "plt.imshow(img_ori, cmap='gray')"
      ],
      "execution_count": null,
      "outputs": []
    },
    {
      "cell_type": "code",
      "metadata": {
        "id": "KmZi70WGFTak"
      },
      "source": [
        "#gray 변환\n",
        "img_gray = cv2.cvtColor(img_ori,cv2.COLOR_BGR2GRAY)\n",
        "#img_gray = ~img_gray\n",
        "\n",
        "plt.figure(figsize=(12, 10))\n",
        "plt.imshow(img_gray, cmap='gray')"
      ],
      "execution_count": null,
      "outputs": []
    },
    {
      "cell_type": "code",
      "metadata": {
        "id": "hXk4-4RvFnU7"
      },
      "source": [
        "# Non-local Means  잡음 제거\n",
        "# fastNlMeansDenoising: 단일 gray image에 작동\n",
        "# 1) h: 필터 강도 -> 높은 값일 수록 잡음 더 잘 제거\n",
        "img_Denoising = cv2.fastNlMeansDenoising(img_gray, h = 20, templateWindowSize=7, searchWindowSize=21)\n",
        "\n",
        "plt.figure(figsize=(12, 10))\n",
        "plt.imshow(img_Denoising, cmap='gray')"
      ],
      "execution_count": null,
      "outputs": []
    },
    {
      "cell_type": "code",
      "metadata": {
        "id": "4Xwqwj-NJQep"
      },
      "source": [
        "# GuassianBlur\n",
        "img_Denoising = cv2.GaussianBlur(img_Denoising, ksize=(5, 5), sigmaX=0)\n",
        "plt.figure(figsize=(12, 10))\n",
        "plt.imshow(img_Denoising, cmap='gray')"
      ],
      "execution_count": null,
      "outputs": []
    },
    {
      "cell_type": "markdown",
      "metadata": {
        "id": "hkb5AZsXICRP"
      },
      "source": [
        "threshold + countour"
      ]
    },
    {
      "cell_type": "code",
      "metadata": {
        "id": "eex_XzIJHglq"
      },
      "source": [
        "ret, img_Denoising = cv2.threshold(img_Denoising, 180, 255, cv2.THRESH_BINARY_INV)\n",
        "plt.figure(figsize=(12, 10))\n",
        "plt.imshow(img_Denoising, cmap='gray')\n",
        "\n",
        "img_thresh = cv2.adaptiveThreshold(\n",
        "    img_Denoising, \n",
        "    maxValue=255.0, \n",
        "    adaptiveMethod=cv2.ADAPTIVE_THRESH_GAUSSIAN_C, \n",
        "    thresholdType=cv2.THRESH_BINARY_INV, \n",
        "    blockSize=19, \n",
        "    C=9\n",
        ")\n",
        "\n",
        "plt.figure(figsize=(12, 10))\n",
        "plt.imshow(img_thresh, cmap='gray')"
      ],
      "execution_count": null,
      "outputs": []
    },
    {
      "cell_type": "code",
      "metadata": {
        "id": "oBN0Bt2KJBLU"
      },
      "source": [
        "contours, _ = cv2.findContours(\n",
        "    img_thresh, \n",
        "    mode=cv2.RETR_LIST, \n",
        "    method=cv2.CHAIN_APPROX_SIMPLE\n",
        ")\n",
        "\n",
        "temp_result = np.zeros((height, width, channel), dtype=np.uint8)\n",
        "\n",
        "cv2.drawContours(temp_result, contours=contours, contourIdx=-1, color=(255, 255, 255))\n",
        "\n",
        "plt.figure(figsize=(12, 10))\n",
        "plt.imshow(temp_result)"
      ],
      "execution_count": null,
      "outputs": []
    },
    {
      "cell_type": "markdown",
      "metadata": {
        "id": "ZwMpSyTDIHbC"
      },
      "source": [
        "detecting test"
      ]
    },
    {
      "cell_type": "code",
      "metadata": {
        "id": "80GjzQFIpwrg"
      },
      "source": [
        "contours, _ = cv2.findContours(\n",
        "    img_thresh, \n",
        "    mode=cv2.RETR_LIST, \n",
        "    method=cv2.CHAIN_APPROX_SIMPLE\n",
        ")\n",
        "\n",
        "temp_result = np.zeros((height, width, channel), dtype=np.uint8)\n",
        "\n",
        "contours_dict = []\n",
        "\n",
        "for contour in contours:\n",
        "    x, y, w, h = cv2.boundingRect(contour)\n",
        "    cv2.rectangle(temp_result, pt1=(x, y), pt2=(x+w, y+h), color=(255, 255, 255), thickness=2)\n",
        "    \n",
        "    # insert to dict\n",
        "    contours_dict.append({\n",
        "        'contour': contour,\n",
        "        'x': x,\n",
        "        'y': y,\n",
        "        'w': w,\n",
        "        'h': h,\n",
        "        'cx': x + (w / 2),\n",
        "        'cy': y + (h / 2)\n",
        "    })\n",
        "\n",
        "plt.figure(figsize=(12, 10))\n",
        "plt.imshow(temp_result, cmap='gray')"
      ],
      "execution_count": null,
      "outputs": []
    },
    {
      "cell_type": "code",
      "metadata": {
        "id": "C8ThDD9Fp-vH"
      },
      "source": [
        "MIN_AREA = 80\n",
        "MIN_WIDTH, MIN_HEIGHT = 2, 8\n",
        "MIN_RATIO, MAX_RATIO = 0.25, 1.0\n",
        "\n",
        "possible_contours = []\n",
        "\n",
        "cnt = 0\n",
        "for d in contours_dict:\n",
        "    area = d['w'] * d['h']\n",
        "    ratio = d['w'] / d['h']\n",
        "    \n",
        "    if area > MIN_AREA \\\n",
        "    and d['w'] > MIN_WIDTH and d['h'] > MIN_HEIGHT \\\n",
        "    and MIN_RATIO < ratio < MAX_RATIO:\n",
        "        d['idx'] = cnt\n",
        "        cnt += 1\n",
        "        possible_contours.append(d)\n",
        "        \n",
        "# visualize possible contours\n",
        "temp_result = np.zeros((height, width, channel), dtype=np.uint8)\n",
        "\n",
        "for d in possible_contours:\n",
        "#     cv2.drawContours(temp_result, d['contour'], -1, (255, 255, 255))\n",
        "    cv2.rectangle(temp_result, pt1=(d['x'], d['y']), pt2=(d['x']+d['w'], d['y']+d['h']), color=(255, 255, 255), thickness=2)\n",
        "\n",
        "plt.figure(figsize=(12, 10))\n",
        "plt.imshow(temp_result, cmap='gray')"
      ],
      "execution_count": null,
      "outputs": []
    },
    {
      "cell_type": "code",
      "metadata": {
        "id": "_oTQaXm5qA5h"
      },
      "source": [
        "MAX_DIAG_MULTIPLYER = 5 # 5\n",
        "MAX_ANGLE_DIFF = 12.0 # 12.0\n",
        "MAX_AREA_DIFF = 0.5 # 0.5\n",
        "MAX_WIDTH_DIFF = 0.8\n",
        "MAX_HEIGHT_DIFF = 0.2\n",
        "MIN_N_MATCHED = 3 # 3\n",
        "\n",
        "def find_chars(contour_list):\n",
        "    matched_result_idx = []\n",
        "    \n",
        "    for d1 in contour_list:\n",
        "        matched_contours_idx = []\n",
        "        for d2 in contour_list:\n",
        "            if d1['idx'] == d2['idx']:\n",
        "                continue\n",
        "\n",
        "            dx = abs(d1['cx'] - d2['cx'])\n",
        "            dy = abs(d1['cy'] - d2['cy'])\n",
        "\n",
        "            diagonal_length1 = np.sqrt(d1['w'] ** 2 + d1['h'] ** 2)\n",
        "\n",
        "            distance = np.linalg.norm(np.array([d1['cx'], d1['cy']]) - np.array([d2['cx'], d2['cy']]))\n",
        "            if dx == 0:\n",
        "                angle_diff = 90\n",
        "            else:\n",
        "                angle_diff = np.degrees(np.arctan(dy / dx))\n",
        "            area_diff = abs(d1['w'] * d1['h'] - d2['w'] * d2['h']) / (d1['w'] * d1['h'])\n",
        "            width_diff = abs(d1['w'] - d2['w']) / d1['w']\n",
        "            height_diff = abs(d1['h'] - d2['h']) / d1['h']\n",
        "\n",
        "            if distance < diagonal_length1 * MAX_DIAG_MULTIPLYER \\\n",
        "            and angle_diff < MAX_ANGLE_DIFF and area_diff < MAX_AREA_DIFF \\\n",
        "            and width_diff < MAX_WIDTH_DIFF and height_diff < MAX_HEIGHT_DIFF:\n",
        "                matched_contours_idx.append(d2['idx'])\n",
        "\n",
        "        # append this contour\n",
        "        matched_contours_idx.append(d1['idx'])\n",
        "\n",
        "        if len(matched_contours_idx) < MIN_N_MATCHED:\n",
        "            continue\n",
        "\n",
        "        matched_result_idx.append(matched_contours_idx)\n",
        "\n",
        "        unmatched_contour_idx = []\n",
        "        for d4 in contour_list:\n",
        "            if d4['idx'] not in matched_contours_idx:\n",
        "                unmatched_contour_idx.append(d4['idx'])\n",
        "\n",
        "        unmatched_contour = np.take(possible_contours, unmatched_contour_idx)\n",
        "        \n",
        "        # recursive\n",
        "        recursive_contour_list = find_chars(unmatched_contour)\n",
        "        \n",
        "        for idx in recursive_contour_list:\n",
        "            matched_result_idx.append(idx)\n",
        "\n",
        "        break\n",
        "\n",
        "    return matched_result_idx\n",
        "    \n",
        "result_idx = find_chars(possible_contours)\n",
        "\n",
        "matched_result = []\n",
        "for idx_list in result_idx:\n",
        "    matched_result.append(np.take(possible_contours, idx_list))\n",
        "\n",
        "# visualize possible contours\n",
        "temp_result = np.zeros((height, width, channel), dtype=np.uint8)\n",
        "\n",
        "for r in matched_result:\n",
        "    for d in r:\n",
        "#         cv2.drawContours(temp_result, d['contour'], -1, (255, 255, 255))\n",
        "        cv2.rectangle(temp_result, pt1=(d['x'], d['y']), pt2=(d['x']+d['w'], d['y']+d['h']), color=(255, 255, 255), thickness=2)\n",
        "\n",
        "plt.figure(figsize=(12, 10))\n",
        "plt.imshow(temp_result, cmap='gray')"
      ],
      "execution_count": null,
      "outputs": []
    },
    {
      "cell_type": "code",
      "metadata": {
        "id": "DyxcjQM5qECS"
      },
      "source": [
        "PLATE_WIDTH_PADDING = 1.3 # 1.3\n",
        "PLATE_HEIGHT_PADDING = 1.5 # 1.5\n",
        "MIN_PLATE_RATIO = 3\n",
        "MAX_PLATE_RATIO = 10\n",
        "\n",
        "plate_imgs = []\n",
        "plate_infos = []\n",
        "\n",
        "for i, matched_chars in enumerate(matched_result):\n",
        "    sorted_chars = sorted(matched_chars, key=lambda x: x['cx'])\n",
        "\n",
        "    plate_cx = (sorted_chars[0]['cx'] + sorted_chars[-1]['cx']) / 2\n",
        "    plate_cy = (sorted_chars[0]['cy'] + sorted_chars[-1]['cy']) / 2\n",
        "    \n",
        "    plate_width = (sorted_chars[-1]['x'] + sorted_chars[-1]['w'] - sorted_chars[0]['x']) * PLATE_WIDTH_PADDING\n",
        "    \n",
        "    sum_height = 0\n",
        "    for d in sorted_chars:\n",
        "        sum_height += d['h']\n",
        "\n",
        "    plate_height = int(sum_height / len(sorted_chars) * PLATE_HEIGHT_PADDING)\n",
        "    \n",
        "    triangle_height = sorted_chars[-1]['cy'] - sorted_chars[0]['cy']\n",
        "    triangle_hypotenus = np.linalg.norm(\n",
        "        np.array([sorted_chars[0]['cx'], sorted_chars[0]['cy']]) - \n",
        "        np.array([sorted_chars[-1]['cx'], sorted_chars[-1]['cy']])\n",
        "    )\n",
        "    \n",
        "    #angle = np.degrees(np.arcsin(triangle_height / triangle_hypotenus))\n",
        "    \n",
        "    #rotation_matrix = cv2.getRotationMatrix2D(center=(plate_cx, plate_cy), angle=angle, scale=1.0)\n",
        "    \n",
        "    #img_rotated = cv2.warpAffine(img_thresh, M=rotation_matrix, dsize=(width, height))\n",
        "    \n",
        "    img_cropped = cv2.getRectSubPix(\n",
        "        img_thresh, \n",
        "        patchSize=(int(plate_width), int(plate_height)), \n",
        "        center=(int(plate_cx), int(plate_cy))\n",
        "    )\n",
        "    \n",
        "    if img_cropped.shape[1] / img_cropped.shape[0] < MIN_PLATE_RATIO or img_cropped.shape[1] / img_cropped.shape[0] < MIN_PLATE_RATIO > MAX_PLATE_RATIO:\n",
        "        continue\n",
        "    \n",
        "    plate_imgs.append(img_cropped)\n",
        "    plate_infos.append({\n",
        "        'x': int(plate_cx - plate_width / 2),\n",
        "        'y': int(plate_cy - plate_height / 2),\n",
        "        'w': int(plate_width),\n",
        "        'h': int(plate_height)\n",
        "    })\n",
        "    \n",
        "    plt.subplot(len(matched_result), 1, i+1)\n",
        "    plt.imshow(img_cropped, cmap='gray')"
      ],
      "execution_count": null,
      "outputs": []
    },
    {
      "cell_type": "code",
      "metadata": {
        "id": "P70JVg-xqGok"
      },
      "source": [
        "longest_idx, longest_text = -1, 0\n",
        "plate_chars = []\n",
        "\n",
        "for i, plate_img in enumerate(plate_imgs):\n",
        "    plate_img = cv2.resize(plate_img, dsize=(0, 0), fx=1.6, fy=1.6)\n",
        "    _, plate_img = cv2.threshold(plate_img, thresh=0.0, maxval=255.0, type=cv2.THRESH_BINARY | cv2.THRESH_OTSU)\n",
        "    \n",
        "    # find contours again (same as above)\n",
        "    contours, _ = cv2.findContours(plate_img, mode=cv2.RETR_LIST, method=cv2.CHAIN_APPROX_SIMPLE)\n",
        "    \n",
        "    plate_min_x, plate_min_y = plate_img.shape[1], plate_img.shape[0]\n",
        "    plate_max_x, plate_max_y = 0, 0\n",
        "\n",
        "    for contour in contours:\n",
        "        x, y, w, h = cv2.boundingRect(contour)\n",
        "        \n",
        "        area = w * h\n",
        "        ratio = w / h\n",
        "\n",
        "        if area > MIN_AREA \\\n",
        "        and w > MIN_WIDTH and h > MIN_HEIGHT \\\n",
        "        and MIN_RATIO < ratio < MAX_RATIO:\n",
        "            if x < plate_min_x:\n",
        "                plate_min_x = x\n",
        "            if y < plate_min_y:\n",
        "                plate_min_y = y\n",
        "            if x + w > plate_max_x:\n",
        "                plate_max_x = x + w\n",
        "            if y + h > plate_max_y:\n",
        "                plate_max_y = y + h\n",
        "                \n",
        "    img_result = plate_img[plate_min_y:plate_max_y, plate_min_x:plate_max_x]\n",
        "    \n",
        "    img_result = cv2.GaussianBlur(img_result, ksize=(3, 3), sigmaX=0)\n",
        "    _, img_result = cv2.threshold(img_result, thresh=0.0, maxval=255.0, type=cv2.THRESH_BINARY | cv2.THRESH_OTSU)\n",
        "    img_result = cv2.copyMakeBorder(img_result, top=10, bottom=10, left=10, right=10, borderType=cv2.BORDER_CONSTANT, value=(0,0,0))\n",
        "\n",
        "    #chars = pytesseract.image_to_string(img_result, lang='kor', config='--psm 7 --oem 0')\n",
        "    \n",
        "    result_chars = ''\n",
        "    has_digit = False\n",
        "    '''\n",
        "    for c in chars:\n",
        "        if ord('가') <= ord(c) <= ord('힣') or c.isdigit():\n",
        "            if c.isdigit():\n",
        "                has_digit = True\n",
        "            result_chars += c\n",
        "    '''\n",
        "    print(result_chars)\n",
        "    plate_chars.append(result_chars)\n",
        "\n",
        "    if has_digit and len(result_chars) > longest_text:\n",
        "        longest_idx = i\n",
        "\n",
        "    plt.subplot(len(plate_imgs), 1, i+1)\n",
        "    plt.imshow(img_result, cmap='gray')"
      ],
      "execution_count": null,
      "outputs": []
    },
    {
      "cell_type": "code",
      "metadata": {
        "id": "RpYi-eUEqJGZ"
      },
      "source": [
        "info = plate_infos[longest_idx]\n",
        "chars = plate_chars[longest_idx]\n",
        "\n",
        "print(chars)\n",
        "\n",
        "img_out = img_ori.copy()\n",
        "\n",
        "cv2.rectangle(img_out, pt1=(info['x'], info['y']), pt2=(info['x']+info['w'], info['y']+info['h']), color=(255,0,0), thickness=2)\n",
        "\n",
        "cv2.imwrite(chars + '.jpg', img_out)\n",
        "\n",
        "plt.figure(figsize=(12, 10))\n",
        "plt.imshow(img_out)"
      ],
      "execution_count": null,
      "outputs": []
    },
    {
      "cell_type": "markdown",
      "metadata": {
        "id": "TMazbcYPp_Pb"
      },
      "source": [
        "이미지 기울기 조정 - Deskewing"
      ]
    },
    {
      "cell_type": "code",
      "metadata": {
        "id": "J6_npefDJFhX"
      },
      "source": [
        "contours = sorted(contours, key = cv2.contourArea, reverse = True)\n",
        "largestContour = contours[0]\n",
        "minAreaRect = cv2.minAreaRect(largestContour)\n",
        "\n",
        "box = cv2.boxPoints(minAreaRect)\n",
        "box = np.int0(box)\n",
        "cv2.drawContours(temp_result, [box], 0, (0, 255, 0), 3)\n",
        "\n",
        "print(box)\n",
        "\n",
        "plt.figure(figsize=(12, 10))\n",
        "plt.imshow(temp_result)\n",
        "\n",
        "angle = minAreaRect[-1]\n",
        "if angle < -45:\n",
        "    angle = 90 + angle\n",
        "angle = (-1.0) * angle\n",
        "\n",
        "print(angle, \"angle\")\n",
        "\n",
        "center = (width/2, height/2)\n",
        "M = cv2.getRotationMatrix2D(center, angle * (-1.0), 1.0)\n",
        "img_thresh = cv2.warpAffine(img_thresh, M, (width,height), flags=cv2.INTER_CUBIC, borderMode=cv2.BORDER_REPLICATE)\n",
        "\n",
        "left_down = box[1]\n",
        "right_down = box[0]\n",
        "left_up = box[2]\n",
        "right_up = box[3]\n",
        "src = np.float32([left_down, right_down, left_up, right_up])\n",
        "dst = np.float32([[0, 0], [int(max(minAreaRect[1][0], minAreaRect[1][1])), 0], [0, int(min(minAreaRect[1][0], minAreaRect[1][1]))],\n",
        "                              [int(max(minAreaRect[1][0], minAreaRect[1][1])),\n",
        "                               int(min(minAreaRect[1][0], minAreaRect[1][1]))]])\n",
        "m = cv2.getPerspectiveTransform(src, dst)\n",
        "img_warp = cv2.warpPerspective(img_copy, m, (int(max(minAreaRect[1][0], minAreaRect[1][1])), int(min(minAreaRect[1][0], minAreaRect[1][1]))),\n",
        "                                         flags=cv2.INTER_CUBIC)\n",
        "'''\n",
        "edges = cv2.Canny(temp_result, 100, 200)\n",
        "lines = cv2.HoughLines(edges, 1, np.pi/180, 130)\n",
        "for line in lines:\n",
        "    r,theta = line[0]\n",
        "    tx, ty = np.cos(theta), np.sin(theta)\n",
        "    x0, y0 = tx*r, ty*r\n",
        "\n",
        "    cv2.circle(img_copy, (abs(x0), abs(y0)), 3, (0,0,255), -1)\n",
        "\n",
        "    x1, y1 = int(x0 + w*(-ty)), int(y0 + h*tx)\n",
        "    x2, y2 = int(x0 - w *(-ty)), int(y0 - h * tx)\n",
        "\n",
        "    cv2.line(img_copy, (x1, y1), (x2, y2), (0,255,0), 1)\n",
        "'''\n",
        "\n",
        "\n",
        "plt.figure(figsize=(12, 10))\n",
        "plt.imshow(img_thresh)\n",
        "\n",
        "img_crop = cv2.warpAffine(img_copy, M, (width,height), flags=cv2.INTER_CUBIC, borderMode=cv2.BORDER_REPLICATE)\n",
        "plt.figure(figsize=(12, 10))\n",
        "plt.imshow(img_crop)\n",
        "\n",
        "cv2.drawContours(img_copy, [box], 0, (0, 255, 0), 3)\n",
        "plt.figure(figsize=(12, 10))\n",
        "plt.imshow(img_copy)\n",
        "\n",
        "plt.figure(figsize=(12, 10))\n",
        "plt.imshow(img_warp)"
      ],
      "execution_count": null,
      "outputs": []
    },
    {
      "cell_type": "markdown",
      "metadata": {
        "id": "xiAh11LbHB1y"
      },
      "source": [
        "Gaussian Blur"
      ]
    },
    {
      "cell_type": "code",
      "metadata": {
        "id": "4anff0N0G_iP"
      },
      "source": [
        "img_blurred = cv2.GaussianBlur(img_gray, ksize=(5, 5), sigmaX=0)\n",
        "plt.figure(figsize=(12, 10))\n",
        "plt.imshow(img_blurred, cmap='gray')\n",
        "\n",
        "ret, img_blurred = cv2.threshold(img_blurred, 200, 255, cv2.THRESH_BINARY)\n",
        "\n",
        "\n",
        "img_thresh = cv2.adaptiveThreshold(\n",
        "    img_blurred, \n",
        "    maxValue=255.0, \n",
        "    adaptiveMethod=cv2.ADAPTIVE_THRESH_GAUSSIAN_C, \n",
        "    thresholdType=cv2.THRESH_BINARY_INV, \n",
        "    blockSize=19, \n",
        "    C=9\n",
        ")\n",
        "\n",
        "plt.figure(figsize=(12, 10))\n",
        "plt.imshow(img_thresh, cmap='gray')"
      ],
      "execution_count": null,
      "outputs": []
    },
    {
      "cell_type": "code",
      "metadata": {
        "id": "G4el8EyVotoC"
      },
      "source": [
        "contours, _ = cv2.findContours(\n",
        "    img_thresh, \n",
        "    mode=cv2.RETR_LIST, \n",
        "    method=cv2.CHAIN_APPROX_SIMPLE\n",
        ")\n",
        "\n",
        "temp_result = np.zeros((height, width, channel), dtype=np.uint8)\n",
        "\n",
        "cv2.drawContours(temp_result, contours=contours, contourIdx=-1, color=(255, 255, 255))\n",
        "\n",
        "plt.figure(figsize=(12, 10))\n",
        "plt.imshow(temp_result)"
      ],
      "execution_count": null,
      "outputs": []
    },
    {
      "cell_type": "markdown",
      "metadata": {
        "id": "Q2BbvI4CwR8y"
      },
      "source": [
        ""
      ]
    },
    {
      "cell_type": "code",
      "metadata": {
        "id": "a3Gp5enHwSWb"
      },
      "source": [
        "test_img = cv2.imread('original_sample_1.jpg')\n",
        "img_copy = test_img.copy()\n",
        "\n",
        "height, width, channel = test_img.shape\n",
        "\n",
        "plt.figure(figsize=(12, 10))\n",
        "plt.imshow(test_img, cmap='gray')"
      ],
      "execution_count": null,
      "outputs": []
    },
    {
      "cell_type": "code",
      "metadata": {
        "id": "O1p8jTMswbky"
      },
      "source": [
        "#gray 변환\n",
        "test_img_gray = cv2.cvtColor(test_img,cv2.COLOR_BGR2GRAY)\n",
        "\n",
        "plt.figure(figsize=(12, 10))\n",
        "plt.imshow(test_img_gray, cmap='gray')"
      ],
      "execution_count": null,
      "outputs": []
    },
    {
      "cell_type": "code",
      "metadata": {
        "id": "s6nIQ2C7wf7q"
      },
      "source": [
        "test_bilateral = cv2.bilateralFilter(test_img_gray,9,75,75)\n",
        "\n",
        "plt.figure(figsize=(12, 10))\n",
        "plt.imshow(test_bilateral, cmap='gray')"
      ],
      "execution_count": null,
      "outputs": []
    },
    {
      "cell_type": "code",
      "metadata": {
        "id": "DB73G81U1iFW"
      },
      "source": [
        "test_median = cv2.medianBlur(test_img_gray,5)\n",
        "\n",
        "plt.figure(figsize=(12, 10))\n",
        "plt.imshow(test_median, cmap='gray')"
      ],
      "execution_count": null,
      "outputs": []
    },
    {
      "cell_type": "code",
      "metadata": {
        "id": "mktwrGm-w4Tn"
      },
      "source": [
        "# Non-local Means  잡음 제거\n",
        "# fastNlMeansDenoising: 단일 gray image에 작동\n",
        "# 1) h: 필터 강도 -> 높은 값일 수록 잡음 더 잘 제거\n",
        "img_Denoising = cv2.fastNlMeansDenoising(img_gray, h = 20, templateWindowSize=7, searchWindowSize=21)\n",
        "\n",
        "plt.figure(figsize=(12, 10))\n",
        "plt.imshow(img_Denoising, cmap='gray')"
      ],
      "execution_count": null,
      "outputs": []
    },
    {
      "cell_type": "code",
      "metadata": {
        "id": "FAsSPyljxdbe"
      },
      "source": [
        "ret1, img_Denoising = cv2.threshold(img_Denoising, 200, 255, cv2.THRESH_BINARY)\n",
        "ret2, test_bilateral = cv2.threshold(test_bilateral, 200, 255, cv2.THRESH_BINARY)\n",
        "ret3, test_median = cv2.threshold(test_median, 200, 255, cv2.THRESH_BINARY)\n",
        "\n",
        "\n",
        "img_thresh = cv2.adaptiveThreshold(\n",
        "    img_Denoising, \n",
        "    maxValue=255.0, \n",
        "    adaptiveMethod=cv2.ADAPTIVE_THRESH_GAUSSIAN_C, \n",
        "    thresholdType=cv2.THRESH_BINARY_INV, \n",
        "    blockSize=19, \n",
        "    C=9\n",
        ")\n",
        "\n",
        "img_thresh2 = cv2.adaptiveThreshold(\n",
        "    test_bilateral, \n",
        "    maxValue=255.0, \n",
        "    adaptiveMethod=cv2.ADAPTIVE_THRESH_GAUSSIAN_C, \n",
        "    thresholdType=cv2.THRESH_BINARY_INV, \n",
        "    blockSize=19, \n",
        "    C=9\n",
        ")\n",
        "\n",
        "img_thresh3 = cv2.adaptiveThreshold(\n",
        "    test_median, \n",
        "    maxValue=255.0, \n",
        "    adaptiveMethod=cv2.ADAPTIVE_THRESH_GAUSSIAN_C, \n",
        "    thresholdType=cv2.THRESH_BINARY_INV, \n",
        "    blockSize=19, \n",
        "    C=9\n",
        ")\n",
        "\n",
        "plt.figure(figsize=(12, 10))\n",
        "plt.imshow(img_thresh, cmap='gray')\n",
        "plt.figure(figsize=(12, 10))\n",
        "plt.imshow(img_thresh2, cmap='gray')\n",
        "plt.figure(figsize=(12, 10))\n",
        "plt.imshow(img_thresh3, cmap='gray')"
      ],
      "execution_count": null,
      "outputs": []
    },
    {
      "cell_type": "code",
      "metadata": {
        "id": "qC1NuUdTx7M-"
      },
      "source": [
        "contours, _ = cv2.findContours(\n",
        "    img_thresh, \n",
        "    mode=cv2.RETR_LIST, \n",
        "    method=cv2.CHAIN_APPROX_SIMPLE\n",
        ")\n",
        "contours2, _ = cv2.findContours(\n",
        "    img_thresh2, \n",
        "    mode=cv2.RETR_LIST, \n",
        "    method=cv2.CHAIN_APPROX_SIMPLE\n",
        ")\n",
        "contours3, _ = cv2.findContours(\n",
        "    img_thresh3, \n",
        "    mode=cv2.RETR_LIST, \n",
        "    method=cv2.CHAIN_APPROX_SIMPLE\n",
        ")\n",
        "\n",
        "\n",
        "temp_result = np.zeros((height, width, channel), dtype=np.uint8)\n",
        "temp_result2 = np.zeros((height, width, channel), dtype=np.uint8)\n",
        "temp_result3 = np.zeros((height, width, channel), dtype=np.uint8)\n",
        "\n",
        "cv2.drawContours(temp_result, contours=contours, contourIdx=-1, color=(255, 255, 255))\n",
        "cv2.drawContours(temp_result2, contours=contours2, contourIdx=-1, color=(255, 255, 255))\n",
        "cv2.drawContours(temp_result3, contours=contours3, contourIdx=-1, color=(255, 255, 255))\n",
        "\n",
        "plt.figure(figsize=(12, 10))\n",
        "plt.imshow(temp_result)\n",
        "plt.figure(figsize=(12, 10))\n",
        "plt.imshow(temp_result2)\n",
        "plt.figure(figsize=(12, 10))\n",
        "plt.imshow(temp_result3)"
      ],
      "execution_count": null,
      "outputs": []
    }
  ]
}